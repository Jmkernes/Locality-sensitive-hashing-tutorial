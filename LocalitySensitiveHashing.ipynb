{
 "cells": [
  {
   "cell_type": "markdown",
   "metadata": {},
   "source": [
    "# Locality Sensitive Hashing\n",
    "\n",
    "This notebook is a tutorial and python implementation of locality sensitive hashing.\n",
    "\n",
    "We demonstrate the tools using a very very small dataset, consisting of 4 articles pulled from CNN, and a 5th that is a partial concatenation of 3 of those, to artificialy produce some high similarity scores.\n",
    "\n",
    "Since this is a small dataset, we can easily compare our approximations to the true similarity scores amongst text files. We do so throughout. The layout of this notebook is as follows:\n",
    "\n",
    "Part I: computing similarity amongst text documents\n",
    "1. Introduce a shingle function. Clean and split each text file into a set of K-shingles\n",
    "2. Compute the exact Jaccard similarity (intersection over union) between all pairs\n",
    "3. Create and apply a MinHashing class:\n",
    "    1. Initialize with a dictionary of key-value pairs for the shingles\n",
    "    2. Apply \"universal hashing\" to perform minhashing on a shingle set\n",
    "    3. can be called like a function to compute a **signature matrix**\n",
    "4. Evaluate MinHashing effectiveness by computing scores of all pairs\n",
    "5. Introduce LSH for finding **candidate pairs**, i.e. use a banded signature matrix to find all pairs whose similarity is likely above a threshold\n",
    "6. Make this efficient, by using hash table for band, column ids, allowing O(n) comparison\n",
    "\n",
    "Part II: computing similarity amongst vectors\n",
    "\n",
    "* Afterwards, we provide an additional LSH family for Euclidean spaces, namely cosine similarity. \n",
    "* This is used to ascertain the similarity of vectors in a D-dimensional space.\n",
    "* Can be implemented using the *Random Hyperplanes* hashing method."
   ]
  },
  {
   "cell_type": "code",
   "execution_count": 26,
   "metadata": {},
   "outputs": [],
   "source": [
    "import os\n",
    "import time\n",
    "import itertools\n",
    "import collections\n",
    "import numpy as np\n",
    "import matplotlib.pyplot as plt"
   ]
  },
  {
   "cell_type": "markdown",
   "metadata": {},
   "source": [
    "# Part I: document similarity"
   ]
  },
  {
   "cell_type": "markdown",
   "metadata": {},
   "source": [
    "## MinHashing without Locality Sensitive Hashing"
   ]
  },
  {
   "cell_type": "markdown",
   "metadata": {},
   "source": [
    "### Shingling\n",
    "\n",
    "We illustrate how to convert a word document into a list of shingles.\n",
    "We will use three similar strings, and see how this shows similarity.\n",
    "I made a directory and copied 4 files from CNN, then the 5th is a concatenation of 3 of them, randomly deleting some lines"
   ]
  },
  {
   "cell_type": "code",
   "execution_count": 4,
   "metadata": {},
   "outputs": [
    {
     "name": "stdout",
     "output_type": "stream",
     "text": [
      "Average char-length: 3651.6\n",
      "Min char-length: 2412\n",
      "Max char-length: 5873\n"
     ]
    }
   ],
   "source": [
    "import os\n",
    "HOME = os.getcwd()\n",
    "TARGET = os.path.join(HOME, 'sampledocs/')\n",
    "\n",
    "documents = []\n",
    "for article in os.listdir(TARGET):\n",
    "    if article == 'stopwords':\n",
    "        continue\n",
    "    path = os.path.join(TARGET, article)\n",
    "    with open(path, 'r') as file:\n",
    "        documents.append(file.read())\n",
    "        \n",
    "stopwords = []\n",
    "with open(os.path.join(TARGET, 'stopwords'), 'r') as file:\n",
    "    for line in file:\n",
    "        stopwords.append(line.strip())\n",
    "        \n",
    "for i, doc in enumerate(documents):\n",
    "    doc = doc.strip().replace('\\n', ' ').lower()\n",
    "    for word in stopwords:\n",
    "        doc = doc.replace(' '+word+' ', ' ')\n",
    "    documents[i] = doc\n",
    "\n",
    "print(f\"Average char-length: \\\n",
    "{np.mean(np.array([len(x) for x in documents]))}\")\n",
    "print(f\"Min char-length: {min(len(x) for x in documents)}\")\n",
    "print(f\"Max char-length: {max(len(x) for x in documents)}\")"
   ]
  },
  {
   "cell_type": "code",
   "execution_count": 5,
   "metadata": {},
   "outputs": [
    {
     "name": "stdout",
     "output_type": "stream",
     "text": [
      "Found 2060 unique shingles, out of 3009 possible.\n",
      "Found 1918 unique shingles, out of 2412 possible.\n",
      "Found 2782 unique shingles, out of 3673 possible.\n",
      "Found 2091 unique shingles, out of 3291 possible.\n",
      "Found 3953 unique shingles, out of 5873 possible.\n"
     ]
    }
   ],
   "source": [
    "# create K-shingles by sliding window approach\n",
    "def getShingles(str1, K=5):\n",
    "    d1 = set()\n",
    "    for i in range(len(str1)-K):\n",
    "        d1.add(str1[i:i+K])\n",
    "    print(f\"Found {len(d1)} unique shingles, out of {len(str1)} possible.\")\n",
    "    return d1\n",
    "doc_shingles = [getShingles(s, 5) for s in documents]"
   ]
  },
  {
   "cell_type": "markdown",
   "metadata": {},
   "source": [
    "### Define the Jaccard similarity (intersection over union)"
   ]
  },
  {
   "cell_type": "code",
   "execution_count": 7,
   "metadata": {},
   "outputs": [
    {
     "name": "stdout",
     "output_type": "stream",
     "text": [
      "**~~~~~~ True similarity scores ~~~~~~**\n",
      "Pair\tScore\n",
      "--------------\n",
      "(0, 1)\t0.050\n",
      "(0, 2)\t0.069\n",
      "(0, 3)\t0.093\n",
      "(0, 4)\t0.336\n",
      "(1, 2)\t0.052\n",
      "(1, 3)\t0.051\n",
      "(1, 4)\t0.400\n",
      "(2, 3)\t0.081\n",
      "(2, 4)\t0.083\n",
      "(3, 4)\t0.294\n"
     ]
    }
   ],
   "source": [
    "def jaccardSim(d1,d2):\n",
    "    return len(d1.intersection(d2))/len(d1.union(d2))\n",
    "\n",
    "# itertools.combinations finds all (,n) n-pairs\n",
    "# then we use a map op on the tuples with jaccardSim\n",
    "pairs = itertools.combinations(documents, 2)\n",
    "pair_labels = []\n",
    "pair_sims = []\n",
    "for x1, x2 in itertools.combinations(zip(range(len(doc_shingles)),doc_shingles), 2):\n",
    "    pair_labels.append((x1[0],x2[0]))\n",
    "    pair_sims.append(jaccardSim(x1[1],x2[1]))\n",
    "    \n",
    "print(f\"**~~~~~~ True similarity scores ~~~~~~**\")\n",
    "print(\"Pair\\tScore\")\n",
    "print(\"-\"*14)\n",
    "for pair, score in zip(pair_labels, pair_sims):\n",
    "    print(f\"{pair}\\t{score:.3f}\")"
   ]
  },
  {
   "cell_type": "code",
   "execution_count": 8,
   "metadata": {},
   "outputs": [
    {
     "name": "stdout",
     "output_type": "stream",
     "text": [
      "There are 7534 shingles\n"
     ]
    }
   ],
   "source": [
    "# Take union of all sets. Convert to an array and assign\n",
    "# each element an integer based on position in array\n",
    "fullset = set.union(*doc_shingles)\n",
    "shingle_dict = dict(zip(list(fullset),range(len(fullset))))\n",
    "print(f\"There are {len(shingle_dict)} shingles\")"
   ]
  },
  {
   "cell_type": "code",
   "execution_count": 10,
   "metadata": {},
   "outputs": [],
   "source": [
    "# shingle_dict"
   ]
  },
  {
   "cell_type": "markdown",
   "metadata": {},
   "source": [
    "### 3. Define the MinHash class, capable of creating a signature matrix\n",
    "\n",
    "Note: this only takes sets as input (not matrices) allowing us to efficiently deal with sparse matrices"
   ]
  },
  {
   "cell_type": "code",
   "execution_count": 11,
   "metadata": {},
   "outputs": [
    {
     "name": "stdout",
     "output_type": "stream",
     "text": [
      "Initialization test: passed\n",
      "Set parameters to right size: passed\n",
      "Permuting a row integer returns array: passed\n",
      "Compute minhashed signature matrix: passed\n"
     ]
    }
   ],
   "source": [
    "# Create a hash function\n",
    "# define as a callable class, so that we only\n",
    "# intialize random functions once\n",
    "class HashManager():\n",
    "    def __init__(self, shingle_dict):\n",
    "        self.shingle_dict = shingle_dict\n",
    "        self.N = len(shingle_dict)\n",
    "        self.params = None\n",
    "        \n",
    "    def _initParams(self, n_sig):\n",
    "        self.params = np.random.randint(self.N, size=[n_sig,2])\n",
    "    \n",
    "    def _permuteRow(self, row):\n",
    "        return (self.params@np.array([1,row]))%self.N\n",
    "    \n",
    "    def __call__(self, docs, n_sig, init=True):\n",
    "        # Initialize if we change signature matrix length\n",
    "        # or if we request to re-initialize\n",
    "        if self.params is None or len(self.params) != n_sig or init:\n",
    "            self._initParams(n_sig)\n",
    "            \n",
    "        #initialize signature matrix\n",
    "        sig = np.full((n_sig, len(docs)), np.inf)\n",
    "        \n",
    "        # each doc in docs is assumed to be an iterable object\n",
    "        for j, doc in enumerate(docs):\n",
    "            for shingle in doc:\n",
    "                orig_row = shingle_dict[shingle]\n",
    "                curr_col = self._permuteRow(orig_row)\n",
    "                sig[:,j] = np.minimum(sig[:,j],curr_col)\n",
    "        return sig.astype(int)\n",
    "    \n",
    "# run some tests:\n",
    "try:\n",
    "    print(\"Initialization test: \", end=\"\")\n",
    "    hm = HashManager(shingle_dict)\n",
    "    print(\"passed\")\n",
    "\n",
    "    print(\"Set parameters to right size: \", end=\"\")\n",
    "    hm._initParams(n_sig=4)\n",
    "    assert(hm.params.shape == (4,2))\n",
    "    print(\"passed\")\n",
    "\n",
    "    print(\"Permuting a row integer returns array: \", end=\"\")\n",
    "    curr_col = hm._permuteRow(3)\n",
    "    assert(curr_col.shape == (4,))\n",
    "    print(\"passed\")\n",
    "\n",
    "    print(\"Compute minhashed signature matrix: \", end=\"\")\n",
    "    hm(doc_shingles, 4)\n",
    "    print(\"passed\")\n",
    "except Exception as e:\n",
    "    print(\"failure\")\n",
    "    print(e.args)"
   ]
  },
  {
   "cell_type": "code",
   "execution_count": 12,
   "metadata": {},
   "outputs": [],
   "source": [
    "hm = HashManager(shingle_dict)"
   ]
  },
  {
   "cell_type": "markdown",
   "metadata": {},
   "source": [
    "### 4. Use MinHashing to compute similarity scores, and see how well it does"
   ]
  },
  {
   "cell_type": "code",
   "execution_count": 17,
   "metadata": {},
   "outputs": [
    {
     "name": "stdout",
     "output_type": "stream",
     "text": [
      "**~~~~~~ Similarity score comparison ~~~~~~**\n",
      "Pair\t\tApprox\t\tTrue\t\t%Error\n",
      "(0, 1)\t\t0.000\t\t0.050\t\t100.00\n",
      "(0, 2)\t\t0.100\t\t0.069\t\t45.19\n",
      "(0, 3)\t\t0.300\t\t0.093\t\t221.78\n",
      "(0, 4)\t\t0.300\t\t0.336\t\t10.77\n",
      "(1, 2)\t\t0.100\t\t0.052\t\t93.46\n",
      "(1, 3)\t\t0.000\t\t0.051\t\t100.00\n",
      "(1, 4)\t\t0.200\t\t0.400\t\t50.02\n",
      "(2, 3)\t\t0.200\t\t0.081\t\t147.01\n",
      "(2, 4)\t\t0.200\t\t0.083\t\t141.05\n",
      "(3, 4)\t\t0.700\t\t0.294\t\t137.69\n",
      "True pairs: {(0, 4), (3, 4), (1, 4)}\n",
      "Candidate pairs: {(0, 3), (0, 4), (3, 4)}\n",
      "False negatives: 1\n",
      "Potential false positives: 1\n"
     ]
    }
   ],
   "source": [
    "def trueSimScores(doc_shingles):\n",
    "    pair_labels = []\n",
    "    pair_sims = []\n",
    "    idxs = range(len(doc_shingles))\n",
    "    for x1, x2 in itertools.combinations(zip(idxs,doc_shingles), 2):\n",
    "        pair_labels.append((x1[0], x2[0]))\n",
    "        pair_sims.append(jaccardSim(x1[1], x2[1]))\n",
    "    return dict(zip(pair_labels, pair_sims))\n",
    "    \n",
    "def sigSimScores(sig_mat):\n",
    "#     cols = [sig_mat[:,i] for i in range(sig_mat.shape[1])]\n",
    "    cols = sig_mat.T\n",
    "    idxs = range(sig_mat.shape[1])\n",
    "    \n",
    "    pair_labels = []\n",
    "    pair_sims = []\n",
    "    for (i,col1), (j,col2) in itertools.combinations(zip(idxs, cols),2):\n",
    "        pair_labels.append((i,j))\n",
    "        pair_sims.append(np.mean(col1==col2))\n",
    "    \n",
    "    return dict(zip(pair_labels, pair_sims))\n",
    "\n",
    "def printScoreComparison(true_dict, approx_dict):\n",
    "    print(f\"**~~~~~~ Similarity score comparison ~~~~~~**\")\n",
    "    print(\"Pair\\t\\tApprox\\t\\tTrue\\t\\t%Error\")\n",
    "    for pair, true_value in true_dict.items():\n",
    "        approx_value = approx_dict[pair]\n",
    "        err = 100*abs(true_value-approx_value)/true_value\n",
    "        print(f\"{pair}\\t\\t{approx_value:.3f}\\t\\t{true_value:.3f}\\t\\t{err:.2f}\")\n",
    "\n",
    "def candidatePairs(score_dict, threshold):\n",
    "    return set(pair for pair, scr in score_dict.items() if scr>=threshold)\n",
    "\n",
    "def accMatrix(true_dict, approx_dict, threshold):\n",
    "    true_pairs = candidatePairs(true_dict, threshold)\n",
    "    approx_pairs = candidatePairs(approx_dict, threshold)\n",
    "    false_negatives = len(true_pairs - approx_pairs)\n",
    "    false_positives = len(approx_pairs - true_pairs)\n",
    "    print(f\"False negatives: {false_negatives}\")\n",
    "    print(f\"Potential false positives: {false_positives}\")\n",
    "\n",
    "sig_mat = hm(doc_shingles, 10)\n",
    "true_score_dict = trueSimScores(doc_shingles)\n",
    "approx_score_dict = sigSimScores(sig_mat)\n",
    "printScoreComparison(true_score_dict, approx_score_dict)\n",
    "\n",
    "print(\"True pairs:\",candidatePairs(true_score_dict, 0.25))\n",
    "print(\"Candidate pairs:\",candidatePairs(approx_score_dict, 0.25))\n",
    "accMatrix(true_score_dict, approx_score_dict, 0.4)\n",
    "\n",
    "# print(f\"**~~~~~~ Approximate similarity scores ~~~~~~**\")\n",
    "# print(\"Pair\\t\\tApproximate Score\\t\\tTrue Score\")\n",
    "# print(\"-\"*14)\n",
    "# for pair, score in sigSimScores(sig_mat):\n",
    "#     print(f\"{pair}\\t{score:.3f}\")\n",
    "    \n",
    "# print(f\"**~~~~~~ True similarity scores ~~~~~~**\")\n",
    "# print(\"Pair\\tScore\")\n",
    "# print(\"-\"*14)\n",
    "# for pair, score in zip(pair_labels, pair_sims):\n",
    "#     print(f\"{pair}\\t{score:.3f}\")"
   ]
  },
  {
   "cell_type": "markdown",
   "metadata": {},
   "source": [
    "## Adding Locality Sensitive Hashing: preliminary band-structure theory, how to choose band size"
   ]
  },
  {
   "cell_type": "markdown",
   "metadata": {},
   "source": [
    "### Effects of changing b,r at fixed n"
   ]
  },
  {
   "cell_type": "markdown",
   "metadata": {},
   "source": [
    "Now implement Locality-sensitive hashing. We use a band structure on the signature matrix. If the matrix has $n$ rows, then we divide it into $b$ bands each of width $r$, such that\n",
    "$$n = b*r$$\n",
    "\n",
    "Let $p$ be the true similarity score (match percent) between a pair. The probability of matching every integer in a band is\n",
    "\n",
    "$$\\text{prob. one band doesn't match } = 1-p^r$$\n",
    "\n",
    "Now the probability that NONE of the $b$ bands match is given by\n",
    "\n",
    "$$\\text{prob. no bands match } = (1-p^r)^b$$\n",
    "\n",
    "Therefore, the probability that at least one band matches, is\n",
    "\n",
    "$$P(\\geq 1\\text{ match}) = 1-(1-p^r)^b$$\n",
    "\n",
    "Now, we want this to be our criteria for a candidate pair. That is, two signatures columns are a candidate pair if $P \\geq 1/2$. We will see in the plot below, that as the signature matrix increases, we can tune $r$ and $b$ to approximately be a step function around the true value of $p$. The goal is to find as few candidate pairs as possible, while also making sure we find them all.\n",
    "\n",
    "Draw a vertical line at the true p value\n",
    "The area UNDER the curve $P(x<p)$ represents the rate of potential false positives\n",
    "\n",
    "the area ABOVE the curce $P(x\\geq p)$ represents the rate of false negatives\n",
    "\n",
    "For various values of $r$, $b$, we plot the result below\n"
   ]
  },
  {
   "cell_type": "code",
   "execution_count": 18,
   "metadata": {},
   "outputs": [
    {
     "data": {
      "image/png": "[encoded data removed]",
      "text/plain": [
       "<Figure size 432x288 with 1 Axes>"
      ]
     },
     "metadata": {
      "needs_background": "light"
     },
     "output_type": "display_data"
    }
   ],
   "source": [
    "import matplotlib.pyplot as plt\n",
    "n = 200\n",
    "ops = [(2,100),(4,50),(10,20),(20,10),(50,4),(100,2)]\n",
    "yval = lambda p,r,b: 1-(1-p**r)**b\n",
    "pts = np.linspace(0,1,100)\n",
    "yval(pts,.2,.2)\n",
    "for op in ops:\n",
    "    plt.plot(pts, yval(pts,op[0],op[1]), label=op)\n",
    "plt.plot(pts,0*pts+0.5,'k--', label=\"P=1/2\")\n",
    "plt.plot([0.4,0.4],[0,1], 'k-.')\n",
    "plt.legend()\n",
    "plt.xlabel('p')\n",
    "plt.ylabel('Probability')\n",
    "plt.title(\"legend: (r,b). p_true=0.4 (vertical line)\")\n",
    "plt.show()"
   ]
  },
  {
   "cell_type": "markdown",
   "metadata": {},
   "source": [
    "### Effects of changing n while adjusting b,r to keep P=1/2 argument constant"
   ]
  },
  {
   "cell_type": "markdown",
   "metadata": {},
   "source": [
    "Now let's solve for the optimal values r,b. \n",
    "\n",
    "We suppose that we *fix* $n,r,b$. Given these, we determine at which approximate point $p$ is the crossover. We should find $p=p(b,r)$. Afterwards, we can then approximately solve for $r,b$ to be a desired $p$\n",
    "\n",
    "We begin with for $P=1/2$.\n",
    "$$1/2 = 1-(1-p^r)^b$$\n",
    "$$ 1-p^r = 2^{-1/b}$$\n",
    "$$p = (1-2^{-1/b})^{1/r} = (1-e^{-(1/b)\\ln2})^{1/r} \\approx (1/b)^{1/r}*\\text{const}$$\n",
    "\n",
    "Finally, if we fix $r$ and $p$, we can find the required bands to be about\n",
    "$$ b \\approx 1/p^r\n",
    "\n",
    "Takeaways:\n",
    "\n",
    "increasing r -> \n",
    "* moves the curve right.\n",
    "* more the false negatives\n",
    "* means lower chance to match\n",
    "                \n",
    "increasing b -> \n",
    "* moves the curve left.\n",
    "* more false positives\n",
    "* means higher chance to match\n",
    "                \n",
    "increasing n -> \n",
    "* the curve approaches a step function.\n",
    "* fewer false anythings\n",
    "* always good!\n",
    "\n",
    "Now watch what happens as we pick the optimal r,b and then increase n.\n",
    "\n",
    "We will try to keep p centered around $p=0.5$"
   ]
  },
  {
   "cell_type": "code",
   "execution_count": 19,
   "metadata": {},
   "outputs": [
    {
     "data": {
      "image/png": "[encoded data removed]",
      "text/plain": [
       "<Figure size 432x288 with 1 Axes>"
      ]
     },
     "metadata": {
      "needs_background": "light"
     },
     "output_type": "display_data"
    }
   ],
   "source": [
    "x = np.linspace(0,1,100)\n",
    "\n",
    "b,r = 5, 3\n",
    "y = 1-(1-x**r)**b\n",
    "plt.plot(x,y,'r-',label=f\"b={b},r={r}, n={b*r}\")\n",
    "\n",
    "b,r = 40, 6\n",
    "y = 1-(1-x**r)**b\n",
    "plt.plot(x,y,'b-',label=f\"b={b}, r={r}, n={b*r}\")\n",
    "\n",
    "b,r = 150, 8\n",
    "y = 1-(1-x**r)**b\n",
    "plt.plot(x,y,'g-',label=f\"b={b}, r={r}, n={b*r}\")\n",
    "\n",
    "b,r = 700, 10\n",
    "y = 1-(1-x**r)**b\n",
    "plt.plot(x,y,'g-',label=f\"b={b}, r={r}, n={b*r}\")\n",
    "\n",
    "\n",
    "plt.plot(x,0*x+0.5,'k--')\n",
    "plt.plot([0.5,0.5],[0,1],'k--')\n",
    "plt.legend()\n",
    "plt.show()"
   ]
  },
  {
   "cell_type": "markdown",
   "metadata": {},
   "source": [
    "Now, we use all of the above to try to optimize our Localitly Sensitive Hash function from before.\n",
    "\n",
    "Let's say we want a threshold of $p=0.3$. We can calculate $b\\approx p^{-r}$ for the number of bands. \n",
    "\n",
    "For the first 6 values of band size we determine we should keep\n",
    "\n",
    "$r=1 \\to b=3,\\,n=3$\n",
    "\n",
    "$r=2 \\to b=11,\\,n=22$\n",
    "\n",
    "$r=3 \\to b=37,\\,n=111$\n",
    "\n",
    "$r=4 \\to b=123,\\,n=492$\n",
    "\n",
    "$r=5 \\to b=412,\\,n=2060$\n",
    "\n",
    "Let's try the intermediate choice, and use round numbers $n=120$, $b=40$, $r=3$\n",
    "\n",
    "Let's see how good our results are using the previous defined functions. We first need to construct the banded similarity measure to be used on the signature matrix. Put this into a function"
   ]
  },
  {
   "cell_type": "markdown",
   "metadata": {},
   "source": [
    "### Brute force banded candidate pair function, for checking hash method later"
   ]
  },
  {
   "cell_type": "code",
   "execution_count": 21,
   "metadata": {},
   "outputs": [
    {
     "name": "stdout",
     "output_type": "stream",
     "text": [
      "True pairs: {(0, 4), (1, 4)}\n",
      "LSH pairs: {(0, 4), (1, 4)}\n",
      "Vanilla MinHash pairs: {(0, 4), (3, 4), (1, 4)}\n",
      "**~~~~~~ Similarity score comparison ~~~~~~**\n",
      "Pair\t\tApprox\t\tTrue\t\t%Error\n",
      "(0, 1)\t\t0.117\t\t0.050\t\t133.89\n",
      "(0, 2)\t\t0.142\t\t0.069\t\t105.69\n",
      "(0, 3)\t\t0.150\t\t0.093\t\t60.89\n",
      "(0, 4)\t\t0.475\t\t0.336\t\t41.28\n",
      "(1, 2)\t\t0.183\t\t0.052\t\t254.68\n",
      "(1, 3)\t\t0.175\t\t0.051\t\t240.45\n",
      "(1, 4)\t\t0.408\t\t0.400\t\t2.03\n",
      "(2, 3)\t\t0.233\t\t0.081\t\t188.18\n",
      "(2, 4)\t\t0.225\t\t0.083\t\t171.18\n",
      "(3, 4)\t\t0.325\t\t0.294\t\t10.36\n"
     ]
    }
   ],
   "source": [
    "def bandedCandidatePair(col1, col2, b, r):\n",
    "    \"\"\"Returns a boolean if the two columns are a candidate pair\n",
    "    inputs must obey n=len(col1)=len(col2)=b*r\"\"\"\n",
    "    n = len(col1)\n",
    "    assert(n==b*r)\n",
    "    assert(n==len(col2))\n",
    "    truth_array = (col1==col2)\n",
    "    return any(all(band) for band in np.array_split(truth_array,b))\n",
    "\n",
    "def bandedCandidatePairs(sig_mat, b, r):\n",
    "    d = sig_mat.shape[1]\n",
    "    idxs = range(d)\n",
    "    cols = [sig_mat[:,i] for i in range(d)]\n",
    "    pairs = set()\n",
    "    for (i,col1), (j,col2) in itertools.combinations(zip(idxs,cols),2):\n",
    "        if bandedCandidatePair(col1,col2,b,r):\n",
    "            pairs.add((i,j))\n",
    "    return pairs\n",
    "\n",
    "# set p = 0.3 arbitrarily\n",
    "p = 0.3\n",
    "n = 120\n",
    "b = 30\n",
    "r = 4\n",
    "\n",
    "# see how many candidate pairs we got right!\n",
    "sig_mat = hm(doc_shingles, n)\n",
    "true_score_dict = trueSimScores(doc_shingles)\n",
    "approx_score_dict = sigSimScores(sig_mat)\n",
    "print(\"True pairs:\",candidatePairs(true_score_dict, p))\n",
    "print(\"LSH pairs:\",bandedCandidatePairs(sig_mat, b, r))\n",
    "print(\"Vanilla MinHash pairs:\",candidatePairs(approx_score_dict, p))\n",
    "# accMatrix(true_score_dict, approx_score_dict, 0.4)\n",
    "\n",
    "# sig_mat = hm(doc_shingles, n)\n",
    "# true_score_dict = trueSimScores(doc_shingles)\n",
    "printScoreComparison(true_score_dict, approx_score_dict)"
   ]
  },
  {
   "cell_type": "markdown",
   "metadata": {},
   "source": [
    "### Finally, we perform the fast candidate pair search, using a hash table of band and column id's"
   ]
  },
  {
   "cell_type": "markdown",
   "metadata": {},
   "source": [
    "Lastly, we will improve upon the whole efficiency by performing the comparisons of banded pairs in $\\mathcal{O}(n)$ time as opposed to $\\mathcal{O}(n^2)$\n",
    "\n",
    "For each band of a column, we place a copy of the column index into a hash table, with key the row values.\n",
    "\n",
    "For example, let col=[4,2,5,6]. This might band to say [(4,2),(5,6)], and we ould enter into a dictionary d={(4,2):[col,...], (5,6):[col,...], ...}"
   ]
  },
  {
   "cell_type": "code",
   "execution_count": 25,
   "metadata": {},
   "outputs": [
    {
     "name": "stdout",
     "output_type": "stream",
     "text": [
      "True pairs:\t {(0, 4), (1, 4)}\n",
      "True LSH pairs:\t {(2, 3), (3, 4), (1, 4)}\n",
      "Fast LSH pairs:\t {(2, 3), (3, 4), (1, 4)}\n",
      "MinHash pairs:\t {(0, 4), (3, 4), (1, 4)}\n"
     ]
    }
   ],
   "source": [
    "def fastCandidatePairs(sig_mat, b, r):\n",
    "    n, d = sig_mat.shape\n",
    "    assert(n==b*r)\n",
    "    hashbuckets = collections.defaultdict(set)\n",
    "    bands = np.array_split(sig_mat, b, axis=0)\n",
    "    for i,band in enumerate(bands):\n",
    "        for j in range(d):\n",
    "            # The last value must be made a string, to prevent accidental\n",
    "            # key collisions of r+1 integers when we really only want\n",
    "            # keys of r integers plus a band index\n",
    "            band_id = tuple(list(band[:,j])+[str(i)])\n",
    "            hashbuckets[band_id].add(j)\n",
    "    candidate_pairs = set()\n",
    "    for bucket in hashbuckets.values():\n",
    "        if len(bucket) > 1:\n",
    "            for pair in itertools.combinations(bucket, 2):\n",
    "                candidate_pairs.add(pair)\n",
    "    return candidate_pairs\n",
    "\n",
    "\n",
    "# to make sure it works, \n",
    "# compare with the brute force method on a few trials\n",
    "\n",
    "# set p = 0.3 arbitrarily\n",
    "p = 0.3\n",
    "n = 120\n",
    "b = 30\n",
    "r = 4\n",
    "\n",
    "# see how many candidate pairs we got right!\n",
    "sig_mat = hm(doc_shingles, n)\n",
    "true_score_dict = trueSimScores(doc_shingles)\n",
    "approx_score_dict = sigSimScores(sig_mat)\n",
    "print('True pairs:\\t', candidatePairs(true_score_dict, p))\n",
    "print(\"True LSH pairs:\\t\", bandedCandidatePairs(sig_mat, b, r))\n",
    "print(\"Fast LSH pairs:\\t\", fastCandidatePairs(sig_mat, b, r))\n",
    "print(\"MinHash pairs:\\t\", candidatePairs(approx_score_dict, p))"
   ]
  },
  {
   "cell_type": "markdown",
   "metadata": {},
   "source": [
    "# Part II: vector similarity"
   ]
  },
  {
   "cell_type": "code",
   "execution_count": 30,
   "metadata": {},
   "outputs": [],
   "source": [
    "def cossim(u,v):\n",
    "    norm = np.linalg.norm(u)*np.linalg.norm(v)\n",
    "    cosine = u@v/norm\n",
    "    ang = np.arccos(cosine)\n",
    "    return 1-ang/np.pi"
   ]
  },
  {
   "cell_type": "markdown",
   "metadata": {},
   "source": [
    "## Generate data\n",
    "\n",
    "We create N random vectors of dimension D. We then reassign 5 of these to be artifically close to another set of 5. This is done by setting them equal and adding a small amount of noise.\n",
    "\n",
    "By artificially making some vectors closer to others, we can easily tune the target similarity threshold, allowing us to experiment better."
   ]
  },
  {
   "cell_type": "code",
   "execution_count": 31,
   "metadata": {},
   "outputs": [],
   "source": [
    "# get some random data points\n",
    "N = 1000\n",
    "D= 50\n",
    "A = np.random.randn(N,D)\n",
    "# artificially make some similar to others\n",
    "A[5] = A[99] +np.random.randn(D)*0.05\n",
    "A[20] = A[85] +np.random.randn(D)*0.15\n",
    "A[13] = A[19] +np.random.randn(D)*0.25\n",
    "A[56] = A[71] +np.random.randn(D)*0.5\n",
    "A[45] = A[49] +np.random.randn(D)*0.66"
   ]
  },
  {
   "cell_type": "markdown",
   "metadata": {},
   "source": [
    "## Brute force calculation baseline\n",
    "\n",
    "This is straightforward. We compute the cosine similarity of every possible pair, and keep only those that are at or above the chosen threshold\n",
    "\n",
    "We know beforehand that the smallest \"artificially most similar\" pair is going to be around ~0.82, so we set the threshold to be 0.8.\n",
    "\n",
    "In practice, setting the threshold is an art, and depends on how similar we want things to really be."
   ]
  },
  {
   "cell_type": "code",
   "execution_count": 108,
   "metadata": {},
   "outputs": [
    {
     "name": "stdout",
     "output_type": "stream",
     "text": [
      "Brute force calculation time: 6.184\n",
      "Discovered pairs:\n",
      "Pair: (5, 99),\tSimilarity: 0.98.\n",
      "Pair: (13, 19),\tSimilarity: 0.92.\n",
      "Pair: (20, 85),\tSimilarity: 0.95.\n",
      "Pair: (45, 49),\tSimilarity: 0.82.\n",
      "Pair: (56, 71),\tSimilarity: 0.86.\n"
     ]
    }
   ],
   "source": [
    "true_pairs_dict = {}\n",
    "\n",
    "thresh = 0.8\n",
    "\n",
    "start = time.time()\n",
    "for (i,u),(j,v) in itertools.combinations([(i,x) for i,x in enumerate(A)],2):\n",
    "    val = cossim(u,v)\n",
    "    if val > thresh:\n",
    "        true_pairs_dict[(i,j)] = val\n",
    "t_brute = time.time()-start\n",
    "\n",
    "# save just the keys without the values. Easier to compare later to LSH\n",
    "true_pairs = set(true_pairs_dict.keys())\n",
    "\n",
    "print(f\"Brute force calculation time: {t_brute:.3f}\")\n",
    "print(f\"Discovered pairs:\")\n",
    "for k, v in true_pairs_dict.items():\n",
    "    print(f\"Pair: {k},\\tSimilarity: {v:.2f}.\")"
   ]
  },
  {
   "cell_type": "markdown",
   "metadata": {},
   "source": [
    "## Locality Sensitive Hashing approach"
   ]
  },
  {
   "cell_type": "markdown",
   "metadata": {},
   "source": [
    "### Find r, b parameters given threshold\n",
    "\n",
    "We must have that D%b==0, that is the number of bands divides the dimension. That's our only constraint. Remember, higher n is always better!\n",
    "\n",
    "There's no magic here, we just trial and error some combinations until we get near the desired threshold, in this case 0.75 (chosen in the previous cell)"
   ]
  },
  {
   "cell_type": "code",
   "execution_count": 105,
   "metadata": {},
   "outputs": [
    {
     "name": "stdout",
     "output_type": "stream",
     "text": [
      "Transition probability: 0.80\n"
     ]
    }
   ],
   "source": [
    "b, r = 50, 18\n",
    "\n",
    "n = b*r\n",
    "print(f\"Transition probability: {(1/b)**(1/r):.2f}\")"
   ]
  },
  {
   "cell_type": "markdown",
   "metadata": {},
   "source": [
    "### Compute LSH pairs\n",
    "\n",
    "Let $S$ be the signature matrix and $R$ be the matrix of random hyperplanes.\n",
    "\n",
    "In the code implementation, we work with the transpose of our equations. This means that $S = (N,D)$, and so we have to split into bands across axis=1"
   ]
  },
  {
   "cell_type": "code",
   "execution_count": 106,
   "metadata": {},
   "outputs": [
    {
     "name": "stdout",
     "output_type": "stream",
     "text": [
      "LSH calculation time: 0.249\n"
     ]
    }
   ],
   "source": [
    "start = time.time()\n",
    "\n",
    "# Compute signature matrix\n",
    "R = A@np.random.randn(D,n)\n",
    "S = np.where(R>0,1,0)\n",
    "\n",
    "# Break into bands\n",
    "S = np.split(S, b, axis=1)\n",
    "\n",
    "# column vector to convert binary vector to integer e.g. (1,0,1)->5\n",
    "binary_column = 2**np.arange(r).reshape(-1,1)\n",
    "\n",
    "# convert each band into a single integer, \n",
    "# i.e. convert band matrices to band columns\n",
    "S = np.hstack([M@binary_column for M in S])\n",
    "\n",
    "# Every value in the matrix represents a hash bucket assignment\n",
    "# For every bucket in row i, add index i to that bucket\n",
    "d = collections.defaultdict(set)\n",
    "with np.nditer(S,flags=['multi_index']) as it:\n",
    "    for x in it:\n",
    "        d[int(x)].add(it.multi_index[0])\n",
    "        \n",
    "# For every bucket, find all pairs. These are the LSH pairs.\n",
    "candidate_pairs = set()\n",
    "for k,v in d.items():\n",
    "    if len(v) > 1:\n",
    "        for pair in itertools.combinations(v,2):\n",
    "            candidate_pairs.add(tuple(sorted(pair)))\n",
    "\n",
    "# Finally, perform the actually similarity computation\n",
    "# to weed out false positive\n",
    "lsh_pairs = set()\n",
    "for (i,j) in candidate_pairs:\n",
    "    if cossim(A[i],A[j]) > thresh:\n",
    "        lsh_pairs.add((i,j))\n",
    "        \n",
    "t_lsh = time.time()-start\n",
    "\n",
    "print(f\"LSH calculation time: {t_lsh:.3f}\")"
   ]
  },
  {
   "cell_type": "markdown",
   "metadata": {},
   "source": [
    "## Compare the two methods\n",
    "\n",
    "The above should show that we get a factor of about 25x speedup, while simultaneously finding all pairs, with no false negatives!\n",
    "\n",
    "Very useful!"
   ]
  },
  {
   "cell_type": "code",
   "execution_count": 107,
   "metadata": {},
   "outputs": [
    {
     "name": "stdout",
     "output_type": "stream",
     "text": [
      "t_brute: 6.142\t t_lsh: 0.249. Speed-up: 25x\n",
      "True pairs:  {(45, 49), (20, 85), (56, 71), (13, 19), (5, 99)}\n",
      "LSH pairs:  {(45, 49), (20, 85), (56, 71), (13, 19), (5, 99)}\n",
      "Candidate pairs: 4876.\n",
      "False negatives: 0\n"
     ]
    }
   ],
   "source": [
    "print(f\"t_brute: {t_brute:.3f}\\t t_lsh: {t_lsh:.3f}. Speed-up: {t_brute/t_lsh:.0f}x\")\n",
    "print(\"True pairs: \", pairs_true)\n",
    "print(\"LSH pairs: \", lsh_pairs)\n",
    "print(f\"Candidate pairs: {len(candidate_pairs)}.\\n\\\n",
    "False negatives: {len(pairs_true-lsh_pairs)}\")"
   ]
  }
 ],
 "metadata": {
  "kernelspec": {
   "display_name": "Python 3",
   "language": "python",
   "name": "python3"
  },
  "language_info": {
   "codemirror_mode": {
    "name": "ipython",
    "version": 3
   },
   "file_extension": ".py",
   "mimetype": "text/x-python",
   "name": "python",
   "nbconvert_exporter": "python",
   "pygments_lexer": "ipython3",
   "version": "3.8.3"
  }
 },
 "nbformat": 4,
 "nbformat_minor": 4
}
